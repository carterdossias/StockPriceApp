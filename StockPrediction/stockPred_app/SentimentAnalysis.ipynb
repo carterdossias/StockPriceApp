{
 "cells": [
  {
   "cell_type": "markdown",
   "metadata": {},
   "source": [
    "## Sentiment analysis"
   ]
  },
  {
   "cell_type": "code",
   "execution_count": 31,
   "metadata": {},
   "outputs": [
    {
     "name": "stderr",
     "output_type": "stream",
     "text": [
      "Hardware accelerator e.g. GPU is available in the environment, but no `device` argument is passed to the `Pipeline` object. Model will be on CPU.\n"
     ]
    }
   ],
   "source": [
    "import mysql.connector\n",
    "from transformers import pipeline\n",
    "import numpy as np\n",
    "\n",
    "# Initialize the sentiment pipeline with FinBERT.\n",
    "# Make sure you have installed the required libraries (transformers, torch)\n",
    "classifier = pipeline(\"sentiment-analysis\", model=\"ProsusAI/finbert\")\n",
    "\n",
    "db_config = {\n",
    "    'host': '192.168.0.17',\n",
    "    'user': 'admin',\n",
    "    'password': 'spotify',\n",
    "    'database': 'Stocks_DB'\n",
    "}\n",
    "\n",
    "conn = mysql.connector.connect(**db_config)\n",
    "\n",
    "# --- Cursor A: Fetch rows that need sentiment scores\n",
    "cursor_fetch = conn.cursor()\n",
    "fetch_query = \"\"\"\n",
    "    SELECT news_id, summary\n",
    "    FROM AAPL_news\n",
    "    WHERE sentiment IS NULL\n",
    "    LIMIT 1000;\n",
    "\"\"\"\n",
    "cursor_fetch.execute(fetch_query)\n",
    "rows = cursor_fetch.fetchall()\n",
    "cursor_fetch.close()  # Close fetch cursor\n",
    "\n",
    "# --- Cursor B: Update rows with sentiment scores\n",
    "cursor_update = conn.cursor()\n",
    "update_query = \"\"\"\n",
    "    UPDATE AAPL_news\n",
    "    SET sentiment = %s\n",
    "    WHERE news_id = %s\n",
    "\"\"\"\n",
    "\n",
    "for (news_id, summary) in rows:\n",
    "    if not summary:\n",
    "        sentiment_score = None\n",
    "    else:\n",
    "        # Use FinBERT to classify the summary.\n",
    "        # FinBERT typically outputs three labels: NEGATIVE, NEUTRAL, POSITIVE.\n",
    "        result = classifier(summary[:512])\n",
    "        # Initialize scores\n",
    "        p_pos = 0.0\n",
    "        p_neg = 0.0\n",
    "        # Iterate over results to pick out the scores for positive and negative.\n",
    "        for r in result:\n",
    "            label = r['label'].upper()\n",
    "            score = r['score']\n",
    "            if label == 'POSITIVE':\n",
    "                p_pos = score\n",
    "            elif label == 'NEGATIVE':\n",
    "                p_neg = score\n",
    "        # Compute bipolar sentiment: positive minus negative.\n",
    "        sentiment_score = p_pos - p_neg\n",
    "\n",
    "    cursor_update.execute(update_query, (sentiment_score, news_id))\n",
    "\n",
    "conn.commit()\n",
    "cursor_update.close()\n",
    "conn.close()"
   ]
  }
 ],
 "metadata": {
  "kernelspec": {
   "display_name": "AI",
   "language": "python",
   "name": "python3"
  },
  "language_info": {
   "codemirror_mode": {
    "name": "ipython",
    "version": 3
   },
   "file_extension": ".py",
   "mimetype": "text/x-python",
   "name": "python",
   "nbconvert_exporter": "python",
   "pygments_lexer": "ipython3",
   "version": "3.10.13"
  }
 },
 "nbformat": 4,
 "nbformat_minor": 2
}
